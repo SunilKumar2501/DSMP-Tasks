{
 "cells": [
  {
   "cell_type": "markdown",
   "id": "48f01d92-dcb3-4574-bd75-76428f2c6a7b",
   "metadata": {},
   "source": [
    "# 15. Find Pythagorean triplets in an array"
   ]
  },
  {
   "cell_type": "code",
   "execution_count": 18,
   "id": "73ed7396-0bfa-49bf-affe-c3dc7ca887da",
   "metadata": {},
   "outputs": [
    {
     "name": "stdout",
     "output_type": "stream",
     "text": [
      "[3, 4, 5]\n",
      "[5, 12, 13]\n"
     ]
    }
   ],
   "source": [
    "arr = [3, 1, 5, 6, 4, 9, 12,13]\n",
    "l = len(arr)\n",
    "triplet = []\n",
    "square = set([x**2 for x in arr])\n",
    "\n",
    "for  i in range(l):\n",
    "    for j in range(i+1,l):\n",
    "        a_square = arr[i] * arr[i]\n",
    "        b_square = arr[j] * arr[j]\n",
    "        square_total = a_square + b_square\n",
    "        if( square_total in square):\n",
    "            c = int(square_total ** 0.5)\n",
    "            triplet.append([arr[i],arr[j],c])\n",
    "for i in triplet:\n",
    "    print(i)"
   ]
  },
  {
   "cell_type": "markdown",
   "id": "b414e068-3aab-44fe-9601-c3aa17860f95",
   "metadata": {},
   "source": [
    "# 14 Find union of 2 arrays"
   ]
  },
  {
   "cell_type": "code",
   "execution_count": 106,
   "id": "9cb4b209-19fe-4de2-9263-d1a3dcd9e2dd",
   "metadata": {},
   "outputs": [
    {
     "name": "stdout",
     "output_type": "stream",
     "text": [
      "{1, 2, 3, 4, 5, 7}\n"
     ]
    }
   ],
   "source": [
    "lst = [1,2,3,4,2,5,2]\n",
    "lst1 = [3,4,5,2,4,7]\n",
    "s = set()\n",
    "for i in lst:\n",
    "    s.add(i)\n",
    "for i in lst1:\n",
    "    s.add(i)\n",
    "print(s)\n",
    "\n",
    "        \n",
    "        \n",
    "    "
   ]
  },
  {
   "cell_type": "markdown",
   "id": "921ff5a2-18db-4290-9463-8a652112137d",
   "metadata": {},
   "source": [
    "# 13. Maximum Product Subarray"
   ]
  },
  {
   "cell_type": "code",
   "execution_count": 66,
   "id": "30006c0a-b983-4ab5-b919-09858e74a379",
   "metadata": {},
   "outputs": [
    {
     "name": "stdout",
     "output_type": "stream",
     "text": [
      "20 [2, 10]\n"
     ]
    }
   ],
   "source": [
    "L = [1,2,10,-1,9,1,1]\n",
    "curr_prod = 1\n",
    "curr_seq = []\n",
    "max_prod = L[0]\n",
    "best_seq = []\n",
    "\n",
    "for i in L:\n",
    "    if(i * curr_prod > i):\n",
    "        curr_prod = curr_prod * i\n",
    "        curr_seq.append(i)\n",
    "    else:\n",
    "        curr_prod = i\n",
    "        curr_seq.clear()\n",
    "        curr_seq.append(i)\n",
    "    if(curr_prod > max_prod):\n",
    "        max_prod = curr_prod\n",
    "        best_seq = curr_seq[:]\n",
    "print(max_prod,best_seq)\n",
    "    "
   ]
  },
  {
   "cell_type": "markdown",
   "id": "e0896a0a-d84b-4e64-a2aa-c8b806fd6bc8",
   "metadata": {},
   "source": [
    "# 12. Move all -ve numbers to the end"
   ]
  },
  {
   "cell_type": "code",
   "execution_count": 32,
   "id": "cd39dc31-b55e-4679-aeee-d36afd8d3717",
   "metadata": {},
   "outputs": [
    {
     "name": "stdout",
     "output_type": "stream",
     "text": [
      "[2, 4, 3, 1, 3, 5, -1, -5, -5]\n"
     ]
    }
   ],
   "source": [
    "l = [2,-1,4,-5,3,-5,1,3,5]\n",
    "pos_lst = []\n",
    "neg_lst = []\n",
    "for i in l:\n",
    "    if(i < 0):\n",
    "        neg_lst.append(i)\n",
    "    else:\n",
    "        pos_lst.append(i)\n",
    "lst = pos_lst + neg_lst\n",
    "print(lst)"
   ]
  },
  {
   "cell_type": "markdown",
   "id": "a6944e11-22fb-46f5-8023-ccfc4fb63d2f",
   "metadata": {},
   "source": [
    "# 11. Sort arrays with items 1 and 0"
   ]
  },
  {
   "cell_type": "code",
   "execution_count": 42,
   "id": "2b9408a3-cf36-40a2-bb04-31165d5f38a8",
   "metadata": {},
   "outputs": [
    {
     "name": "stdout",
     "output_type": "stream",
     "text": [
      "[0, 0, 0, 0, 0, 1, 1, 1, 1, 1, 1, 1]\n"
     ]
    }
   ],
   "source": [
    "l = [1, 0, 1,0, 1, 0,1,0,1,1,1,0]\n",
    "ones = []\n",
    "zeros =[]\n",
    "for i in l:\n",
    "    if i == 0:\n",
    "        zeros.append(i)\n",
    "    else:\n",
    "        ones.append(i)\n",
    "lst = zeros + ones\n",
    "print(lst)"
   ]
  },
  {
   "cell_type": "markdown",
   "id": "05985292-ee0f-485a-8c9a-b3c13664ab39",
   "metadata": {},
   "source": [
    "# 10. Maximum sum subarray"
   ]
  },
  {
   "cell_type": "code",
   "execution_count": 39,
   "id": "d3aa0686-229d-44ab-ba1e-1a22e57959bd",
   "metadata": {
    "scrolled": true
   },
   "outputs": [
    {
     "name": "stdout",
     "output_type": "stream",
     "text": [
      "[4, 7, -1, 6, -11, 14, 3] - 22\n"
     ]
    }
   ],
   "source": [
    "# 1. Maximum sum subarray \n",
    "# (i). Nested Loop approach (O(N**2))\n",
    "L = [-2,4,7,-1,6,-11,14,3,-1,-6]\n",
    "dic = {}\n",
    "for i in range(0,len(L)):\n",
    "    lst = []\n",
    "    for j in range(i,len(L)):\n",
    "        lst.append(L[j])\n",
    "        dic[sum(lst)]= lst[:] # lst[:] creats a copy and add it in the dictionary\n",
    "max_sum = max(dic.keys())\n",
    "for i in dic:\n",
    "    if(i == max_sum):\n",
    "        print(dic[i],\"-\",max_sum)\n",
    "        break\n",
    "    "
   ]
  },
  {
   "cell_type": "code",
   "execution_count": 47,
   "id": "e09814b7-7a23-4575-8261-3f753eb23e97",
   "metadata": {},
   "outputs": [
    {
     "name": "stdout",
     "output_type": "stream",
     "text": [
      "[4, 7, -1, 6, -11, 14, 3] 22\n"
     ]
    }
   ],
   "source": [
    "# (ii). Kadane's algorithm (O(n))\n",
    "L = [-2,4,7,-1,6,-11,14,3,-1,-6]\n",
    "curr_sum = 0\n",
    "curr_sub = []\n",
    "best_sum = L[0]\n",
    "best_sub = []\n",
    "\n",
    "for i in L:\n",
    "    if (i + curr_sum > i):\n",
    "        curr_sum = curr_sum + i\n",
    "        curr_sub.append(i)\n",
    "    else:\n",
    "        curr_sum = i\n",
    "        curr_sub.clear()\n",
    "        curr_sub.append(i)\n",
    "    if(curr_sum > best_sum):\n",
    "        best_sum = curr_sum\n",
    "        best_sub = curr_sub[:] # -> copy of the list \n",
    "print(best_sub,best_sum)"
   ]
  },
  {
   "cell_type": "markdown",
   "id": "91676839-b56a-4819-86a0-d2410d8bada9",
   "metadata": {},
   "source": [
    "# 9. Find element with left side smaller/right side greater in an array"
   ]
  },
  {
   "cell_type": "code",
   "execution_count": 67,
   "id": "78f36c88-8ec9-48c2-86db-53486f73f07b",
   "metadata": {},
   "outputs": [
    {
     "name": "stdout",
     "output_type": "stream",
     "text": [
      "6\n"
     ]
    }
   ],
   "source": [
    "# (i) O(n**2)\n",
    "L = [3,1,2,6,8,7,9]\n",
    "\n",
    "for i in range(1,len(L)-1):\n",
    "    Flag = True\n",
    "    for j in range(0,i):\n",
    "        if(L[j] > L[i]):\n",
    "            Flag = False\n",
    "    for k in range(i+1,len(L)):\n",
    "        if(L[k] < L[i]):\n",
    "            Flag = False\n",
    "    if Flag:\n",
    "        print(L[i])\n",
    "\n",
    "# (ii) O(n**2)\n",
    "L = [3,1,2,5,8,7,9]\n",
    "for i in range(1,len(L)-1):\n",
    "    if max(L[:i]) < L[i] < min(L[i+1:]):\n",
    "        print(L[i])"
   ]
  },
  {
   "cell_type": "code",
   "execution_count": 145,
   "id": "d56efb7b-6e52-45b8-96d5-a9ffc19c6a79",
   "metadata": {},
   "outputs": [
    {
     "name": "stdout",
     "output_type": "stream",
     "text": [
      "5\n"
     ]
    }
   ],
   "source": [
    "# (iii) O(n)\n",
    "L = [2,1,2,5,8,7,9]\n",
    "\n",
    "max_arr = []\n",
    "min_arr = []\n",
    "\n",
    "min_val = L[-1]\n",
    "max_val = L[0]\n",
    "\n",
    "for i in L:\n",
    "    if(i > max_val):\n",
    "        max_val = i\n",
    "    max_arr.append(max_val)\n",
    "\n",
    "\n",
    "for j in range (len(L)-1,-1,-1):\n",
    "    if(L[j] < min_val):\n",
    "        min_val = L[j]\n",
    "    min_arr.insert(0,min_val)\n",
    "\n",
    "for i in range(1,len(L)-1):\n",
    "    if(max_arr[i-1] < L[i] < min_arr[i+1]):\n",
    "        print(L[i])\n",
    "    "
   ]
  },
  {
   "cell_type": "markdown",
   "id": "0bb134f8-f65f-4e48-8511-83d1e5f20bf4",
   "metadata": {},
   "source": [
    "# 8. Find continous subarray with a given sum(given non-negative numbers)\n",
    "# return the starting and ending index of the subarray\n",
    "# return 1st subarray in case of multiple"
   ]
  },
  {
   "cell_type": "code",
   "execution_count": 2,
   "id": "f19ea252-6642-41ed-aa1d-56abf039836f",
   "metadata": {},
   "outputs": [
    {
     "name": "stdout",
     "output_type": "stream",
     "text": [
      "[7, 9]\n"
     ]
    }
   ],
   "source": [
    "# O(n**2)\n",
    "L = [1,22,13,7,9,11,10]\n",
    "sum1 = 16\n",
    "for i in range(0,len(L)):\n",
    "    lst = []\n",
    "    for j in range(i,len(L)):\n",
    "        lst.append(L[j])\n",
    "        if sum(lst) == sum1:\n",
    "            print(lst)\n",
    "            "
   ]
  },
  {
   "cell_type": "code",
   "execution_count": 64,
   "id": "4fbdb392-70e5-46d6-9a74-87ee32920c20",
   "metadata": {},
   "outputs": [
    {
     "name": "stdout",
     "output_type": "stream",
     "text": [
      "4 6\n"
     ]
    }
   ],
   "source": [
    "L = [1,22,13,7,9,11,10]\n",
    "S = 30\n",
    "curr_sum = 0\n",
    "d= {}\n",
    "for i in range(len(L)):\n",
    "    curr_sum = curr_sum + L[i]\n",
    "    if(curr_sum - S) in d:\n",
    "        print(d[curr_sum - S]+1,i)\n",
    "        break\n",
    "    d[curr_sum] = i"
   ]
  },
  {
   "cell_type": "code",
   "execution_count": null,
   "id": "768a6fd6-5a7c-4dc9-a9e1-211d24fba715",
   "metadata": {},
   "outputs": [],
   "source": []
  },
  {
   "cell_type": "markdown",
   "id": "bcac3669-3cc9-42ba-af43-580137a4e869",
   "metadata": {},
   "source": [
    "# 7. Find intersection of 2 sorted arrays"
   ]
  },
  {
   "cell_type": "code",
   "execution_count": 28,
   "id": "7cbcbf0b-79d9-4640-923b-6a6989c007aa",
   "metadata": {},
   "outputs": [
    {
     "name": "stdout",
     "output_type": "stream",
     "text": [
      "[3, 8]\n"
     ]
    }
   ],
   "source": [
    "# O(n**2)\n",
    "a = [1,2,3,4,5,8]\n",
    "b = [3,6,7,8]\n",
    "lst = []\n",
    "for i in a:\n",
    "    if i in b:\n",
    "        lst.append(i)\n",
    "print(lst)"
   ]
  },
  {
   "cell_type": "code",
   "execution_count": 48,
   "id": "854a9271-3743-43e1-9dd6-bd8d5ca778bc",
   "metadata": {},
   "outputs": [
    {
     "name": "stdout",
     "output_type": "stream",
     "text": [
      "3\n",
      "8\n"
     ]
    }
   ],
   "source": [
    "# O(n)\n",
    "a = [1,2,3,4,5,8]\n",
    "b = [3,6,7,8]\n",
    "i=j = 0\n",
    "while (i< len(a) and j < len(b)):\n",
    "    if (a[i] == b[j]):\n",
    "        print(a[i])\n",
    "        i = i +1 \n",
    "        j = j+1\n",
    "    elif (a[i] < b[j]):\n",
    "        i = i +1\n",
    "    else:\n",
    "        j = j + 1\n",
    "        \n",
    "        \n",
    "    "
   ]
  },
  {
   "cell_type": "markdown",
   "id": "16e531f4-745f-480b-90a9-5a08e9c14e97",
   "metadata": {},
   "source": [
    "# 6. Rotate array to left d items"
   ]
  },
  {
   "cell_type": "code",
   "execution_count": 58,
   "id": "011c134f-05d7-4dfc-91c9-491fb312ee08",
   "metadata": {},
   "outputs": [
    {
     "name": "stdout",
     "output_type": "stream",
     "text": [
      "[3, 4, 5, 3, 4, 12, 4, 5, 1, 2]\n"
     ]
    }
   ],
   "source": [
    "L = [1,2,3,4,5,3,4,12,4,5]\n",
    "rotate = 2\n",
    "for i in range(rotate):\n",
    "    temp = L[0]\n",
    "    for j in range ( 0,len(L)-1):\n",
    "        L[j] = L[j+1]\n",
    "    L[-1] = temp\n",
    "print(L)"
   ]
  },
  {
   "cell_type": "markdown",
   "id": "7b5de6c6-844f-4667-97de-4c9d5cbe9eaf",
   "metadata": {},
   "source": [
    "# 5. Find duplicates in an array"
   ]
  },
  {
   "cell_type": "code",
   "execution_count": 72,
   "id": "5706c5e1-3e0e-4d47-bb4e-d234c4cb0313",
   "metadata": {},
   "outputs": [
    {
     "name": "stdout",
     "output_type": "stream",
     "text": [
      "[1, 4, 5]\n"
     ]
    }
   ],
   "source": [
    "L = [1,1,2,3,4,4,5,5]\n",
    "d = {}\n",
    "for i in L :\n",
    "     if i in d:\n",
    "         d[i] = d[i] + 1\n",
    "     else:\n",
    "         d[i] = 1\n",
    "lst = []\n",
    "for i in d:\n",
    "    if d[i] > 1:\n",
    "        lst.append(i)\n",
    "print(lst)\n",
    "\n",
    "# Counter library \n",
    "from collections import Counter\n",
    "L = [1,1,2,3,4,4,5,5]\n",
    "x = Counter(L) # converts it into dictionary\n",
    "print(x)\n",
    "for i in x:\n",
    "    if (x[i] > 1):\n",
    "        print(i)\n"
   ]
  },
  {
   "cell_type": "markdown",
   "id": "24270366-af50-411c-8153-aab6ae7ffe60",
   "metadata": {},
   "source": [
    "# 4. Find the first element to occur k times in an array"
   ]
  },
  {
   "cell_type": "code",
   "execution_count": 96,
   "id": "6aadc0f3-2e32-45ac-a2ce-d1bc2b9c9f65",
   "metadata": {},
   "outputs": [
    {
     "name": "stdout",
     "output_type": "stream",
     "text": [
      "5\n"
     ]
    }
   ],
   "source": [
    "L = [1,1,2,3,3,4,5,5,5]\n",
    "k = 3\n",
    "d ={}\n",
    "for i in L:\n",
    "    if i in d:\n",
    "        d[i] = d[i] + 1\n",
    "    else:\n",
    "        d[i] = 1\n",
    "for i in d:\n",
    "    if(d[i] == k):\n",
    "        print(i)\n",
    "        break\n",
    "    "
   ]
  },
  {
   "cell_type": "markdown",
   "id": "100c4192-197b-40de-8a5c-71d9fd169ea3",
   "metadata": {},
   "source": [
    "# 3. Find Min/Max in a given array"
   ]
  },
  {
   "cell_type": "code",
   "execution_count": null,
   "id": "2d930eab-f1fd-429a-8f9a-4d0acd4c4c67",
   "metadata": {},
   "outputs": [],
   "source": [
    "L = [21,1,34,23,54,11,10]\n",
    "max_val = L[0]\n",
    "min_val = L[0]\n",
    "for i in L:\n",
    "    if(max_val < i):\n",
    "        max_val = i\n",
    "    if(i < min_val):\n",
    "        min_val = i\n",
    "print(max_val)       \n",
    "print(min_val)"
   ]
  },
  {
   "cell_type": "markdown",
   "id": "7f9ba20e-9abf-4dd6-be1b-de68a85dade7",
   "metadata": {},
   "source": [
    "# 2. Check if an array is sorted"
   ]
  },
  {
   "cell_type": "code",
   "execution_count": 19,
   "id": "a0f06a60-d539-4561-a389-b4c615a23e13",
   "metadata": {},
   "outputs": [
    {
     "name": "stdout",
     "output_type": "stream",
     "text": [
      "Sorted Array\n"
     ]
    }
   ],
   "source": [
    "\n",
    "L = [1,2,3,4,5]\n",
    "i = 0\n",
    "flag = True\n",
    "while (i < len(L)-1):\n",
    "    if(L[i] < L[i+1]):\n",
    "        flag = True\n",
    "        i = i+1\n",
    "    else:\n",
    "        i = i+1\n",
    "        flag = False\n",
    "        break\n",
    "    \n",
    "if(flag):\n",
    "    print(\"Sorted Array\") \n",
    "else: \n",
    "    print(\"Not Sorted array\")"
   ]
  },
  {
   "cell_type": "markdown",
   "id": "deda5346-f49a-4137-9ce9-1840c7877e29",
   "metadata": {},
   "source": [
    "# 1. Find the kth largest/smallest item from a list"
   ]
  },
  {
   "cell_type": "code",
   "execution_count": 25,
   "id": "8cfc0f77-f603-4ece-b23d-b43dd21b007a",
   "metadata": {},
   "outputs": [
    {
     "name": "stdout",
     "output_type": "stream",
     "text": [
      "43\n"
     ]
    }
   ],
   "source": [
    "# O(nlogn)\n",
    "L = [10,45,6,20,7,43,113]\n",
    "k = 3\n",
    "L.sort(reverse = True)\n",
    "print(L[k-1])"
   ]
  }
 ],
 "metadata": {
  "kernelspec": {
   "display_name": "Python 3 (ipykernel)",
   "language": "python",
   "name": "python3"
  },
  "language_info": {
   "codemirror_mode": {
    "name": "ipython",
    "version": 3
   },
   "file_extension": ".py",
   "mimetype": "text/x-python",
   "name": "python",
   "nbconvert_exporter": "python",
   "pygments_lexer": "ipython3",
   "version": "3.11.7"
  }
 },
 "nbformat": 4,
 "nbformat_minor": 5
}
