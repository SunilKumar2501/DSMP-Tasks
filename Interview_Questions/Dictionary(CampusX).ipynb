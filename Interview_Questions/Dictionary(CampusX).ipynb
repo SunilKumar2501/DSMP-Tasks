{
 "cells": [
  {
   "cell_type": "code",
   "execution_count": 2,
   "id": "ce774a6f",
   "metadata": {},
   "outputs": [
    {
     "data": {
      "text/plain": [
       "{'name': 'hello'}"
      ]
     },
     "execution_count": 2,
     "metadata": {},
     "output_type": "execute_result"
    }
   ],
   "source": [
    "d = {\"name\" : \"hello\"}\n",
    "d"
   ]
  },
  {
   "cell_type": "code",
   "execution_count": 4,
   "id": "f5fee3fd",
   "metadata": {},
   "outputs": [
    {
     "name": "stdout",
     "output_type": "stream",
     "text": [
      "{(1, 2, 3): 4, 'name': 'Sunil kumar'}\n"
     ]
    }
   ],
   "source": [
    "# mixed keys\n",
    "d = {(1,2,3):4, \"name\" : \"Sunil kumar\"}\n",
    "print(d)"
   ]
  },
  {
   "cell_type": "code",
   "execution_count": 5,
   "id": "66d94304",
   "metadata": {},
   "outputs": [
    {
     "name": "stdout",
     "output_type": "stream",
     "text": [
      "{'name': 'Sunil kumar', 'college': 'CU', 'subject': {'dsa': 50, 'maths': 60, 'english': 40}}\n"
     ]
    }
   ],
   "source": [
    "# 2d dictionary\n",
    "s = {\n",
    "    'name':\"Sunil kumar\",\n",
    "    'college': \"CU\",\n",
    "    'subject':{\n",
    "        'dsa':50,\n",
    "        \"maths\":60,\n",
    "        'english':40\n",
    "    }\n",
    "}\n",
    "print(s)"
   ]
  },
  {
   "cell_type": "code",
   "execution_count": 8,
   "id": "190c16bf",
   "metadata": {},
   "outputs": [
    {
     "name": "stdout",
     "output_type": "stream",
     "text": [
      "{'name': 'sunil', 'age': 23}\n"
     ]
    }
   ],
   "source": [
    "dic = dict([(\"name\",\"sunil\"),(\"age\",23)])\n",
    "print(dic)"
   ]
  },
  {
   "cell_type": "code",
   "execution_count": 10,
   "id": "6c470f9d",
   "metadata": {},
   "outputs": [
    {
     "name": "stdout",
     "output_type": "stream",
     "text": [
      "{'name': 'sunil', (2, 3, 4): 4}\n"
     ]
    },
    {
     "ename": "TypeError",
     "evalue": "unhashable type: 'list'",
     "output_type": "error",
     "traceback": [
      "\u001b[1;31m---------------------------------------------------------------------------\u001b[0m",
      "\u001b[1;31mTypeError\u001b[0m                                 Traceback (most recent call last)",
      "Cell \u001b[1;32mIn[10], line 5\u001b[0m\n\u001b[0;32m      3\u001b[0m d \u001b[38;5;241m=\u001b[39m {\u001b[38;5;124m\"\u001b[39m\u001b[38;5;124mname\u001b[39m\u001b[38;5;124m\"\u001b[39m: \u001b[38;5;124m\"\u001b[39m\u001b[38;5;124msunil\u001b[39m\u001b[38;5;124m\"\u001b[39m , (\u001b[38;5;241m2\u001b[39m,\u001b[38;5;241m3\u001b[39m,\u001b[38;5;241m4\u001b[39m):\u001b[38;5;241m4\u001b[39m}\n\u001b[0;32m      4\u001b[0m \u001b[38;5;28mprint\u001b[39m(d)\n\u001b[1;32m----> 5\u001b[0m d1 \u001b[38;5;241m=\u001b[39m {\u001b[38;5;124m\"\u001b[39m\u001b[38;5;124mname\u001b[39m\u001b[38;5;124m\"\u001b[39m: \u001b[38;5;124m\"\u001b[39m\u001b[38;5;124msunil\u001b[39m\u001b[38;5;124m\"\u001b[39m , [\u001b[38;5;241m2\u001b[39m,\u001b[38;5;241m3\u001b[39m,\u001b[38;5;241m4\u001b[39m]:\u001b[38;5;241m4\u001b[39m}\n\u001b[0;32m      6\u001b[0m d1\n",
      "\u001b[1;31mTypeError\u001b[0m: unhashable type: 'list'"
     ]
    }
   ],
   "source": [
    "# duplicate keys are not allowed in dictionary\n",
    "# mutable keys are also not allowed\n",
    "d = {\"name\": \"sunil\" , (2,3,4):4}\n",
    "print(d)\n",
    "d1 = {\"name\": \"sunil\" , [2,3,4]:4} # list is mutable.. so not allowed\n",
    "d1"
   ]
  },
  {
   "cell_type": "code",
   "execution_count": 12,
   "id": "448c5139",
   "metadata": {},
   "outputs": [
    {
     "name": "stdout",
     "output_type": "stream",
     "text": [
      "{'name': 'sunil', 'age': 23, 'status': 'single'}\n",
      "sunil\n",
      "single\n",
      "60\n"
     ]
    }
   ],
   "source": [
    "# fetching the data\n",
    "my_dict = {\"name\": \"sunil\", \"age\" : 23, \"status\": \"single\"}\n",
    "print(my_dict)\n",
    "print(my_dict[\"name\"]) # first method\n",
    "print(my_dict.get(\"status\")) # get method\n",
    " \n",
    "# 2d dict\n",
    "s = {\n",
    "    'name':\"Sunil kumar\",\n",
    "    'college': \"CU\",\n",
    "    'subject':{\n",
    "        'dsa':50,\n",
    "        \"maths\":60,\n",
    "        'english':40\n",
    "    }\n",
    "}\n",
    "print(s[\"subject\"][\"maths\"])\n",
    "\n"
   ]
  },
  {
   "cell_type": "markdown",
   "id": "e552abfc",
   "metadata": {},
   "source": [
    "# add in dict"
   ]
  },
  {
   "cell_type": "code",
   "execution_count": 16,
   "id": "f5571fbc",
   "metadata": {
    "scrolled": true
   },
   "outputs": [
    {
     "data": {
      "text/plain": [
       "{'name': 'Sanu',\n",
       " 'age': 23,\n",
       " 'status': 'single',\n",
       " 'gender': 'male',\n",
       " 2: 4,\n",
       " 'Name': 'Sanu'}"
      ]
     },
     "execution_count": 16,
     "metadata": {},
     "output_type": "execute_result"
    }
   ],
   "source": [
    "# add in dict\n",
    "my_dict['gender'] = \"male\"\n",
    "my_dict[2]=4\n",
    "my_dict\n",
    "# add in 2d dict\n",
    "s[\"subject\"][\"science\"] = 60\n",
    "s\n",
    "my_dict.update({\"Name\":\"Sanu\"}) # update is used to update the dictionary\n",
    "my_dict"
   ]
  },
  {
   "cell_type": "markdown",
   "id": "d0ee04d5",
   "metadata": {},
   "source": [
    "# Delete from dict"
   ]
  },
  {
   "cell_type": "code",
   "execution_count": 38,
   "id": "81fca471",
   "metadata": {},
   "outputs": [
    {
     "name": "stdout",
     "output_type": "stream",
     "text": [
      "{}\n",
      "{'name': 'Sunil kumar', 'college': 'CU', 'subject': {'dsa': 50, 'maths': 60, 'english': 40, 'science': 60}}\n"
     ]
    }
   ],
   "source": [
    "# my_dict.pop(2) # delete by key\n",
    "# my_dict\n",
    "# my_dict.popitem() # delete last item from dict\n",
    "# my_dict\n",
    "d = {}\n",
    "# print(d)\n",
    "# del d # delete the dict completely\n",
    "# print(d)\n",
    "my_dict.clear() # empty the dict\n",
    "print(my_dict)\n",
    "print(s)\n",
    "del s[\"subject\"][\"maths\"] # deletion in 2d dict\n"
   ]
  },
  {
   "cell_type": "markdown",
   "id": "8f3fbd32",
   "metadata": {},
   "source": [
    "# Editing in dict"
   ]
  },
  {
   "cell_type": "code",
   "execution_count": 42,
   "id": "f3a1d6f7",
   "metadata": {},
   "outputs": [
    {
     "name": "stdout",
     "output_type": "stream",
     "text": [
      "{'name': 'Sunil kumar', 'college': 'CU', 'subject': {'dsa': 50, 'english': 40, 'science': 60}}\n",
      "{'name': 'Sunil kumar', 'college': 'CU', 'subject': {'dsa': 50, 'english': 50, 'science': 60}}\n"
     ]
    }
   ],
   "source": [
    "my_dict = {\"name\": \"sunil\", \"age\" : 23, \"status\": \"single\"}\n",
    "my_dict[\"age\"] = 25\n",
    "my_dict\n",
    "print(s)\n",
    "s[\"subject\"][\"english\"]=50 # 2d dict\n",
    "print(s)"
   ]
  },
  {
   "cell_type": "markdown",
   "id": "c334e23c",
   "metadata": {},
   "source": [
    "# operation in dictionary"
   ]
  },
  {
   "cell_type": "code",
   "execution_count": 43,
   "id": "d6de7aa0",
   "metadata": {},
   "outputs": [
    {
     "data": {
      "text/plain": [
       "False"
      ]
     },
     "execution_count": 43,
     "metadata": {},
     "output_type": "execute_result"
    }
   ],
   "source": [
    "\"names\" in s # membership operator works on keys"
   ]
  },
  {
   "cell_type": "code",
   "execution_count": 45,
   "id": "19f4df51",
   "metadata": {},
   "outputs": [
    {
     "name": "stdout",
     "output_type": "stream",
     "text": [
      "name sunil\n",
      "age 23\n",
      "status single\n"
     ]
    }
   ],
   "source": [
    "# Iteration in dictionary\n",
    "d = {\"name\": \"sunil\", \"age\" : 23, \"status\": \"single\"}\n",
    "for i in d:\n",
    "    print(i,d[i])"
   ]
  },
  {
   "cell_type": "markdown",
   "id": "ee7b6baa",
   "metadata": {},
   "source": [
    "# function is dict"
   ]
  },
  {
   "cell_type": "code",
   "execution_count": 51,
   "id": "1526db41",
   "metadata": {},
   "outputs": [
    {
     "name": "stdout",
     "output_type": "stream",
     "text": [
      "3\n",
      "age\n",
      "status\n",
      "['age', 'name', 'status']\n",
      "dict_items([('name', 'sunil'), ('age', 23), ('status', 'single')])\n",
      "dict_keys(['name', 'age', 'status'])\n",
      "dict_values(['sunil', 23, 'single'])\n"
     ]
    }
   ],
   "source": [
    "print(len(d))\n",
    "print(min(d))\n",
    "print(max(d))\n",
    "print(sorted(d)) # convert in list\n",
    " # items/keys/values\n",
    "print(d.items()) # dict to tuple\n",
    "print(d.keys()) # print keys\n",
    "print(d.values()) # print values"
   ]
  },
  {
   "cell_type": "code",
   "execution_count": 54,
   "id": "86748c15",
   "metadata": {},
   "outputs": [
    {
     "name": "stdout",
     "output_type": "stream",
     "text": [
      "{1: 5, 4: 4, 2: 5, 5: 4}\n"
     ]
    }
   ],
   "source": [
    "# update -> update a dict to another dict\n",
    "dic1 = {1:3,4:4,2:9}\n",
    "dic2 = {5:4,1:5,2:5}\n",
    "dic1.update(dic2)\n",
    "print(dic1)\n"
   ]
  },
  {
   "cell_type": "markdown",
   "id": "36004d4e",
   "metadata": {},
   "source": [
    "# Dictionary comprehension"
   ]
  },
  {
   "cell_type": "code",
   "execution_count": 57,
   "id": "e69de217",
   "metadata": {},
   "outputs": [
    {
     "data": {
      "text/plain": [
       "{1: 1, 2: 4, 3: 9, 4: 16, 5: 25, 6: 36, 7: 49, 8: 64, 9: 81, 10: 100}"
      ]
     },
     "execution_count": 57,
     "metadata": {},
     "output_type": "execute_result"
    }
   ],
   "source": [
    "{i:i**2 for i in range(1,11)}"
   ]
  },
  {
   "cell_type": "code",
   "execution_count": 61,
   "id": "597f6aee",
   "metadata": {},
   "outputs": [
    {
     "data": {
      "text/plain": [
       "{'delhi': 3720.0, 'mumbai': 2480.0, 'pune': 4960.0}"
      ]
     },
     "execution_count": 61,
     "metadata": {},
     "output_type": "execute_result"
    }
   ],
   "source": [
    "dis = {\"delhi\": 6000,\"mumbai\":4000, \"pune\":8000}\n",
    "{i:j*0.62 for i,j in dis.items()} # change in dict using dict comprehension"
   ]
  },
  {
   "cell_type": "code",
   "execution_count": 65,
   "id": "3dd51aae",
   "metadata": {},
   "outputs": [
    {
     "data": {
      "text/plain": [
       "{'Sunday': 30,\n",
       " 'Monday': 32,\n",
       " 'Tuesday': 33,\n",
       " 'Wed': 34,\n",
       " 'Thurs': 35,\n",
       " 'Friday': 36,\n",
       " 'Sat': 37}"
      ]
     },
     "execution_count": 65,
     "metadata": {},
     "output_type": "execute_result"
    }
   ],
   "source": [
    "days = [\"Sunday\", \"Monday\", \"Tuesday\", \"Wed\", \"Thurs\", \"Friday\", \"Sat\"]\n",
    "temp_c = [30,32,33,34,35,36,37]\n",
    "{i:j for i,j in zip(days,temp_c)} # using zip in dict comprehension"
   ]
  },
  {
   "cell_type": "code",
   "execution_count": 70,
   "id": "9a47c53f",
   "metadata": {},
   "outputs": [
    {
     "data": {
      "text/plain": [
       "{'phone': 10, 'charger': 32}"
      ]
     },
     "execution_count": 70,
     "metadata": {},
     "output_type": "execute_result"
    }
   ],
   "source": [
    "products = {'phone':10,'laptop':0,'charger':32,'table':0}\n",
    "{i:j for i,j in products.items() if j > 0} "
   ]
  },
  {
   "cell_type": "code",
   "execution_count": 74,
   "id": "f786b79a",
   "metadata": {},
   "outputs": [
    {
     "data": {
      "text/plain": [
       "{2: {1: 2, 2: 4, 3: 6, 4: 8, 5: 10, 6: 12, 7: 14, 8: 16, 9: 18, 10: 20},\n",
       " 3: {1: 3, 2: 6, 3: 9, 4: 12, 5: 15, 6: 18, 7: 21, 8: 24, 9: 27, 10: 30},\n",
       " 4: {1: 4, 2: 8, 3: 12, 4: 16, 5: 20, 6: 24, 7: 28, 8: 32, 9: 36, 10: 40}}"
      ]
     },
     "execution_count": 74,
     "metadata": {},
     "output_type": "execute_result"
    }
   ],
   "source": [
    "{i:{j:i*j for j in range(1,11) }for i in range(2,5)} # nested dic comprehension"
   ]
  }
 ],
 "metadata": {
  "kernelspec": {
   "display_name": "Python 3 (ipykernel)",
   "language": "python",
   "name": "python3"
  },
  "language_info": {
   "codemirror_mode": {
    "name": "ipython",
    "version": 3
   },
   "file_extension": ".py",
   "mimetype": "text/x-python",
   "name": "python",
   "nbconvert_exporter": "python",
   "pygments_lexer": "ipython3",
   "version": "3.11.7"
  }
 },
 "nbformat": 4,
 "nbformat_minor": 5
}
